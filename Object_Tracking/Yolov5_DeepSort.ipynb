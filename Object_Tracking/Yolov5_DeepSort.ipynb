{
  "nbformat": 4,
  "nbformat_minor": 0,
  "metadata": {
    "colab": {
      "name": "Grp8_Yolov5_DeepSort.ipynb",
      "provenance": [],
      "collapsed_sections": []
    },
    "kernelspec": {
      "name": "python3",
      "display_name": "Python 3"
    },
    "language_info": {
      "name": "python"
    }
  },
  "cells": [
    {
      "cell_type": "markdown",
      "metadata": {
        "id": "AIGuIpRFAo18"
      },
      "source": [
        "# Setup\n",
        "\n",
        "Clone repo, install dependencies and check PyTorch and GPU."
      ]
    },
    {
      "cell_type": "code",
      "metadata": {
        "colab": {
          "base_uri": "https://localhost:8080/"
        },
        "id": "taGCP-gCgqX8",
        "outputId": "00481ee4-796a-495f-e145-3afbc3dee01f"
      },
      "source": [
        "!git clone --recurse-submodules https://github.com/mikel-brostrom/Yolov5_DeepSort_OSNet.git  # clone repo\n",
        "%cd Yolov5_DeepSort_OSNet\n",
        "%pip install -qr requirements.txt  # install dependencies\n",
        "\n",
        "import torch\n",
        "from IPython.display import Image, clear_output  # to display images\n",
        "\n",
        "clear_output()\n",
        "print(f\"Setup complete. Using torch {torch.__version__} ({torch.cuda.get_device_properties(0).name if torch.cuda.is_available() else 'CPU'})\")"
      ],
      "execution_count": 1,
      "outputs": [
        {
          "output_type": "stream",
          "name": "stdout",
          "text": [
            "Setup complete. Using torch 1.11.0+cu113 (CPU)\n"
          ]
        }
      ]
    },
    {
      "cell_type": "markdown",
      "metadata": {
        "id": "1JQRVPMtA9Cr"
      },
      "source": [
        "# Download data\n",
        "\n",
        "Get test video from repo and extract the first 2 seconds of it "
      ]
    },
    {
      "cell_type": "code",
      "metadata": {
        "colab": {
          "base_uri": "https://localhost:8080/"
        },
        "id": "4Acf_nRZ7yS6",
        "outputId": "f40991e6-61f6-44e4-888c-b56cc0c93684"
      },
      "source": [
        "# get yolov5m model trained on the crowd-human dataset\n",
        "!wget -nc https://github.com/mikel-brostrom/Yolov5_DeepSort_OSNet/releases/download/v.2.0/crowdhuman_yolov5m.pt -O /content/Yolov5_DeepSort_OSNet/yolov5/weights/crowdhuman_yolov5m.pt\n",
        "\n",
        "# get the test video from the repo\n",
        "#!wget -nc https://github.com/mikel-brostrom/Yolov5_DeepSort_OSNet/releases/download/v.2.0/test.avi\n",
        "# extract 3 seconds worth of video frames of it\n",
        "!y | ffmpeg -ss 00:00:00 -i /content/actor1_fall_trim.avi -t 00:00:02 -c copy out.avi"
      ],
      "execution_count": 2,
      "outputs": [
        {
          "output_type": "stream",
          "name": "stdout",
          "text": [
            "/content/Yolov5_DeepSort_OSNet/yolov5/weights/crowdhuman_yolov5m.pt: No such file or directory\n",
            "/bin/bash: y: command not found\n",
            "ffmpeg version 3.4.11-0ubuntu0.1 Copyright (c) 2000-2022 the FFmpeg developers\n",
            "  built with gcc 7 (Ubuntu 7.5.0-3ubuntu1~18.04)\n",
            "  configuration: --prefix=/usr --extra-version=0ubuntu0.1 --toolchain=hardened --libdir=/usr/lib/x86_64-linux-gnu --incdir=/usr/include/x86_64-linux-gnu --enable-gpl --disable-stripping --enable-avresample --enable-avisynth --enable-gnutls --enable-ladspa --enable-libass --enable-libbluray --enable-libbs2b --enable-libcaca --enable-libcdio --enable-libflite --enable-libfontconfig --enable-libfreetype --enable-libfribidi --enable-libgme --enable-libgsm --enable-libmp3lame --enable-libmysofa --enable-libopenjpeg --enable-libopenmpt --enable-libopus --enable-libpulse --enable-librubberband --enable-librsvg --enable-libshine --enable-libsnappy --enable-libsoxr --enable-libspeex --enable-libssh --enable-libtheora --enable-libtwolame --enable-libvorbis --enable-libvpx --enable-libwavpack --enable-libwebp --enable-libx265 --enable-libxml2 --enable-libxvid --enable-libzmq --enable-libzvbi --enable-omx --enable-openal --enable-opengl --enable-sdl2 --enable-libdc1394 --enable-libdrm --enable-libiec61883 --enable-chromaprint --enable-frei0r --enable-libopencv --enable-libx264 --enable-shared\n",
            "  libavutil      55. 78.100 / 55. 78.100\n",
            "  libavcodec     57.107.100 / 57.107.100\n",
            "  libavformat    57. 83.100 / 57. 83.100\n",
            "  libavdevice    57. 10.100 / 57. 10.100\n",
            "  libavfilter     6.107.100 /  6.107.100\n",
            "  libavresample   3.  7.  0 /  3.  7.  0\n",
            "  libswscale      4.  8.100 /  4.  8.100\n",
            "  libswresample   2.  9.100 /  2.  9.100\n",
            "  libpostproc    54.  7.100 / 54.  7.100\n",
            "\u001b[0;33m/content/actor1_fall_trim.avi: could not seek to position 0.000\n",
            "\u001b[0mInput #0, avi, from '/content/actor1_fall_trim.avi':\n",
            "  Metadata:\n",
            "    encoder         : Lavf58.76.100\n",
            "  Duration: 00:00:03.29, start: 0.000000, bitrate: 2284 kb/s\n",
            "    Stream #0:0: Video: h264 (High) (H264 / 0x34363248), yuv420p(progressive), 1920x1080 [SAR 1:1 DAR 16:9], 2197 kb/s, 30 fps, 30 tbr, 30 tbn, 60 tbc\n",
            "    Stream #0:1: Audio: aac (LC) ([255][0][0][0] / 0x00FF), 48000 Hz, stereo, fltp, 128 kb/s\n",
            "Output #0, avi, to 'out.avi':\n",
            "  Metadata:\n",
            "    ISFT            : Lavf57.83.100\n",
            "    Stream #0:0: Video: h264 (High) (H264 / 0x34363248), yuv420p(progressive), 1920x1080 [SAR 1:1 DAR 16:9], q=2-31, 2197 kb/s, 30 fps, 30 tbr, 30 tbn, 30 tbc\n",
            "    Stream #0:1: Audio: aac (LC) ([255][0][0][0] / 0x00FF), 48000 Hz, stereo, fltp, 128 kb/s\n",
            "Stream mapping:\n",
            "  Stream #0:0 -> #0:0 (copy)\n",
            "  Stream #0:1 -> #0:1 (copy)\n",
            "Press [q] to stop, [?] for help\n",
            "frame=    0 fps=0.0 q=-1.0 Lsize=      21kB time=00:00:01.98 bitrate=  87.7kbits/s speed=2.24e+03x    \n",
            "video:0kB audio:11kB subtitle:0kB other streams:0kB global headers:0kB muxing overhead: 98.902710%\n"
          ]
        }
      ]
    },
    {
      "cell_type": "markdown",
      "metadata": {
        "id": "oqIP5shr9HQd"
      },
      "source": [
        "## Run inference on video\n",
        "\n",
        "The ``cv2.imshow()`` and ``cv.imshow()`` functions from the [opencv-python](https://github.com/skvark/opencv-python) package are incompatible with Jupyter notebook; see https://github.com/jupyter/notebook/issues/3935. \n",
        "\n",
        "Hence we chose to save it to file in this notebook. Locally you can use the ``--show-vid`` flag in order visualize the tracking in real-time"
      ]
    },
    {
      "cell_type": "code",
      "metadata": {
        "colab": {
          "base_uri": "https://localhost:8080/"
        },
        "id": "4yEraJfKhBku",
        "outputId": "48856efc-33b4-4d6d-ef9b-93d68bb46a0c"
      },
      "source": [
        "!python track.py   --source /content/actor1_fall_trim.avi  --save-vid"
      ],
      "execution_count": 3,
      "outputs": [
        {
          "output_type": "stream",
          "name": "stdout",
          "text": [
            "strong_sort/deep/reid/torchreid/metrics/rank.py:12: UserWarning: Cython evaluation (very fast so highly recommended) is unavailable, now use python evaluation.\n",
            "  'Cython evaluation (very fast so highly recommended) is '\n",
            "\u001b[34m\u001b[1mtrack: \u001b[0myolo_weights=/content/Yolov5_DeepSort_OSNet/weights/yolov5m.pt, strong_sort_weights=/content/Yolov5_DeepSort_OSNet/weights/osnet_x0_25_msmt17.pt, config_strongsort=strong_sort/configs/strong_sort.yaml, source=/content/actor1_fall_trim.avi, imgsz=[640, 640], conf_thres=0.5, iou_thres=0.5, max_det=1000, device=, show_vid=False, save_txt=False, save_conf=False, save_crop=False, save_vid=True, nosave=False, classes=None, agnostic_nms=False, augment=False, visualize=False, update=False, project=runs/track, name=exp, exist_ok=False, line_thickness=3, hide_labels=False, hide_conf=False, hide_class=False, half=False, dnn=False\n",
            "YOLOv5 🚀 2022-7-8 Python-3.7.13 torch-1.11.0+cu113 CPU\n",
            "\n",
            "Downloading https://github.com/ultralytics/yolov5/releases/download/v6.1/yolov5m.pt to /content/Yolov5_DeepSort_OSNet/weights/yolov5m.pt...\n",
            "100% 40.8M/40.8M [00:01<00:00, 41.8MB/s]\n",
            "\n",
            "Fusing layers... \n",
            "YOLOv5m summary: 290 layers, 21172173 parameters, 0 gradients\n",
            "Downloading...\n",
            "From: https://drive.google.com/uc?id=1Kkx2zW89jq_NETu4u42CFZTMVD5Hwm6e\n",
            "To: /content/Yolov5_DeepSort_OSNet/weights/osnet_x0_25_msmt17.pt\n",
            "100% 9.34M/9.34M [00:00<00:00, 98.0MB/s]\n",
            "Model: osnet_x0_25\n",
            "- params: 203,568\n",
            "- flops: 82,316,000\n",
            "Successfully loaded pretrained weights from \"/content/Yolov5_DeepSort_OSNet/weights/osnet_x0_25_msmt17.pt\"\n",
            "** The following layers are discarded due to unmatched keys or layer size: ['classifier.weight', 'classifier.bias']\n",
            "video 1/1 (1/96) /content/actor1_fall_trim.avi: 384x640 1 person, Done. YOLO:(0.676s), StrongSORT:(0.040s)\n",
            "video 1/1 (2/96) /content/actor1_fall_trim.avi: 384x640 1 person, Done. YOLO:(0.683s), StrongSORT:(0.057s)\n",
            "video 1/1 (3/96) /content/actor1_fall_trim.avi: 384x640 1 person, Done. YOLO:(0.644s), StrongSORT:(0.040s)\n",
            "video 1/1 (4/96) /content/actor1_fall_trim.avi: 384x640 1 person, Done. YOLO:(0.646s), StrongSORT:(0.045s)\n",
            "video 1/1 (5/96) /content/actor1_fall_trim.avi: 384x640 1 person, Done. YOLO:(0.664s), StrongSORT:(0.041s)\n",
            "video 1/1 (6/96) /content/actor1_fall_trim.avi: 384x640 1 person, Done. YOLO:(0.633s), StrongSORT:(0.040s)\n",
            "video 1/1 (7/96) /content/actor1_fall_trim.avi: 384x640 1 person, Done. YOLO:(0.648s), StrongSORT:(0.041s)\n",
            "video 1/1 (8/96) /content/actor1_fall_trim.avi: 384x640 1 person, Done. YOLO:(0.638s), StrongSORT:(0.041s)\n",
            "video 1/1 (9/96) /content/actor1_fall_trim.avi: 384x640 1 person, Done. YOLO:(0.775s), StrongSORT:(0.041s)\n",
            "video 1/1 (10/96) /content/actor1_fall_trim.avi: 384x640 1 person, Done. YOLO:(0.736s), StrongSORT:(0.041s)\n",
            "video 1/1 (11/96) /content/actor1_fall_trim.avi: 384x640 1 person, Done. YOLO:(0.643s), StrongSORT:(0.040s)\n",
            "video 1/1 (12/96) /content/actor1_fall_trim.avi: 384x640 1 person, Done. YOLO:(0.622s), StrongSORT:(0.040s)\n",
            "video 1/1 (13/96) /content/actor1_fall_trim.avi: 384x640 1 person, Done. YOLO:(0.634s), StrongSORT:(0.042s)\n",
            "video 1/1 (14/96) /content/actor1_fall_trim.avi: 384x640 1 person, Done. YOLO:(0.631s), StrongSORT:(0.040s)\n",
            "video 1/1 (15/96) /content/actor1_fall_trim.avi: 384x640 1 person, Done. YOLO:(0.633s), StrongSORT:(0.042s)\n",
            "video 1/1 (16/96) /content/actor1_fall_trim.avi: 384x640 1 person, Done. YOLO:(0.623s), StrongSORT:(0.040s)\n",
            "video 1/1 (17/96) /content/actor1_fall_trim.avi: 384x640 1 person, Done. YOLO:(0.626s), StrongSORT:(0.040s)\n",
            "video 1/1 (18/96) /content/actor1_fall_trim.avi: 384x640 1 person, Done. YOLO:(0.639s), StrongSORT:(0.041s)\n",
            "video 1/1 (19/96) /content/actor1_fall_trim.avi: 384x640 1 person, Done. YOLO:(0.644s), StrongSORT:(0.041s)\n",
            "video 1/1 (20/96) /content/actor1_fall_trim.avi: 384x640 1 person, Done. YOLO:(0.638s), StrongSORT:(0.043s)\n",
            "video 1/1 (21/96) /content/actor1_fall_trim.avi: 384x640 1 person, Done. YOLO:(0.636s), StrongSORT:(0.044s)\n",
            "video 1/1 (22/96) /content/actor1_fall_trim.avi: 384x640 1 person, Done. YOLO:(0.625s), StrongSORT:(0.044s)\n",
            "video 1/1 (23/96) /content/actor1_fall_trim.avi: 384x640 1 person, Done. YOLO:(0.634s), StrongSORT:(0.041s)\n",
            "video 1/1 (24/96) /content/actor1_fall_trim.avi: 384x640 1 person, Done. YOLO:(0.630s), StrongSORT:(0.044s)\n",
            "video 1/1 (25/96) /content/actor1_fall_trim.avi: 384x640 1 person, Done. YOLO:(0.637s), StrongSORT:(0.047s)\n",
            "video 1/1 (26/96) /content/actor1_fall_trim.avi: 384x640 1 person, Done. YOLO:(0.637s), StrongSORT:(0.040s)\n",
            "video 1/1 (27/96) /content/actor1_fall_trim.avi: 384x640 1 person, Done. YOLO:(0.639s), StrongSORT:(0.041s)\n",
            "video 1/1 (28/96) /content/actor1_fall_trim.avi: 384x640 1 person, Done. YOLO:(0.649s), StrongSORT:(0.040s)\n",
            "video 1/1 (29/96) /content/actor1_fall_trim.avi: 384x640 1 person, Done. YOLO:(0.628s), StrongSORT:(0.041s)\n",
            "video 1/1 (30/96) /content/actor1_fall_trim.avi: 384x640 1 person, Done. YOLO:(0.638s), StrongSORT:(0.041s)\n",
            "video 1/1 (31/96) /content/actor1_fall_trim.avi: 384x640 1 person, Done. YOLO:(0.637s), StrongSORT:(0.040s)\n",
            "video 1/1 (32/96) /content/actor1_fall_trim.avi: 384x640 1 person, Done. YOLO:(0.632s), StrongSORT:(0.043s)\n",
            "video 1/1 (33/96) /content/actor1_fall_trim.avi: 384x640 1 person, Done. YOLO:(0.639s), StrongSORT:(0.040s)\n",
            "video 1/1 (34/96) /content/actor1_fall_trim.avi: 384x640 1 person, Done. YOLO:(0.648s), StrongSORT:(0.040s)\n",
            "video 1/1 (35/96) /content/actor1_fall_trim.avi: 384x640 1 person, Done. YOLO:(0.626s), StrongSORT:(0.050s)\n",
            "video 1/1 (36/96) /content/actor1_fall_trim.avi: 384x640 1 person, Done. YOLO:(0.639s), StrongSORT:(0.042s)\n",
            "video 1/1 (37/96) /content/actor1_fall_trim.avi: 384x640 1 person, Done. YOLO:(0.633s), StrongSORT:(0.040s)\n",
            "video 1/1 (38/96) /content/actor1_fall_trim.avi: 384x640 1 person, 1 toilet, Done. YOLO:(0.640s), StrongSORT:(0.066s)\n",
            "video 1/1 (39/96) /content/actor1_fall_trim.avi: 384x640 1 person, 1 toilet, Done. YOLO:(0.628s), StrongSORT:(0.058s)\n",
            "video 1/1 (40/96) /content/actor1_fall_trim.avi: 384x640 1 person, 1 toilet, Done. YOLO:(0.637s), StrongSORT:(0.061s)\n",
            "video 1/1 (41/96) /content/actor1_fall_trim.avi: 384x640 1 person, 1 toilet, Done. YOLO:(0.637s), StrongSORT:(0.060s)\n",
            "video 1/1 (42/96) /content/actor1_fall_trim.avi: 384x640 1 person, 1 toilet, Done. YOLO:(0.633s), StrongSORT:(0.060s)\n",
            "video 1/1 (43/96) /content/actor1_fall_trim.avi: 384x640 1 person, 1 toilet, Done. YOLO:(0.627s), StrongSORT:(0.055s)\n",
            "video 1/1 (44/96) /content/actor1_fall_trim.avi: 384x640 1 person, 1 toilet, Done. YOLO:(0.631s), StrongSORT:(0.056s)\n",
            "video 1/1 (45/96) /content/actor1_fall_trim.avi: 384x640 1 person, 1 toilet, Done. YOLO:(0.640s), StrongSORT:(0.057s)\n",
            "video 1/1 (46/96) /content/actor1_fall_trim.avi: 384x640 1 person, 1 toilet, Done. YOLO:(0.643s), StrongSORT:(0.061s)\n",
            "video 1/1 (47/96) /content/actor1_fall_trim.avi: 384x640 1 person, Done. YOLO:(0.659s), StrongSORT:(0.042s)\n",
            "video 1/1 (48/96) /content/actor1_fall_trim.avi: 384x640 1 person, 1 toilet, Done. YOLO:(0.658s), StrongSORT:(0.059s)\n",
            "video 1/1 (49/96) /content/actor1_fall_trim.avi: 384x640 1 person, Done. YOLO:(0.634s), StrongSORT:(0.042s)\n",
            "video 1/1 (50/96) /content/actor1_fall_trim.avi: 384x640 1 person, Done. YOLO:(0.637s), StrongSORT:(0.039s)\n",
            "video 1/1 (51/96) /content/actor1_fall_trim.avi: 384x640 1 person, Done. YOLO:(0.642s), StrongSORT:(0.038s)\n",
            "video 1/1 (52/96) /content/actor1_fall_trim.avi: 384x640 1 person, Done. YOLO:(0.658s), StrongSORT:(0.043s)\n",
            "video 1/1 (53/96) /content/actor1_fall_trim.avi: 384x640 1 person, Done. YOLO:(0.639s), StrongSORT:(0.036s)\n",
            "video 1/1 (54/96) /content/actor1_fall_trim.avi: 384x640 1 person, Done. YOLO:(0.645s), StrongSORT:(0.038s)\n",
            "video 1/1 (55/96) /content/actor1_fall_trim.avi: 384x640 1 person, Done. YOLO:(0.647s), StrongSORT:(0.037s)\n",
            "video 1/1 (56/96) /content/actor1_fall_trim.avi: 384x640 1 person, Done. YOLO:(0.629s), StrongSORT:(0.036s)\n",
            "video 1/1 (57/96) /content/actor1_fall_trim.avi: 384x640 1 person, Done. YOLO:(0.629s), StrongSORT:(0.035s)\n",
            "video 1/1 (58/96) /content/actor1_fall_trim.avi: 384x640 1 person, Done. YOLO:(0.643s), StrongSORT:(0.035s)\n",
            "video 1/1 (59/96) /content/actor1_fall_trim.avi: 384x640 1 person, Done. YOLO:(0.626s), StrongSORT:(0.036s)\n",
            "video 1/1 (60/96) /content/actor1_fall_trim.avi: 384x640 1 person, Done. YOLO:(0.656s), StrongSORT:(0.037s)\n",
            "video 1/1 (61/96) /content/actor1_fall_trim.avi: 384x640 1 person, Done. YOLO:(0.656s), StrongSORT:(0.041s)\n",
            "video 1/1 (62/96) /content/actor1_fall_trim.avi: 384x640 1 person, Done. YOLO:(0.660s), StrongSORT:(0.035s)\n",
            "video 1/1 (63/96) /content/actor1_fall_trim.avi: 384x640 1 person, 1 toilet, Done. YOLO:(0.645s), StrongSORT:(0.053s)\n",
            "video 1/1 (64/96) /content/actor1_fall_trim.avi: 384x640 1 person, 1 toilet, Done. YOLO:(0.638s), StrongSORT:(0.055s)\n",
            "video 1/1 (65/96) /content/actor1_fall_trim.avi: 384x640 1 person, 1 toilet, Done. YOLO:(0.628s), StrongSORT:(0.058s)\n",
            "video 1/1 (66/96) /content/actor1_fall_trim.avi: 384x640 1 person, 1 toilet, Done. YOLO:(0.638s), StrongSORT:(0.054s)\n",
            "video 1/1 (67/96) /content/actor1_fall_trim.avi: 384x640 1 person, 1 toilet, Done. YOLO:(0.631s), StrongSORT:(0.061s)\n",
            "video 1/1 (68/96) /content/actor1_fall_trim.avi: 384x640 1 person, 1 toilet, Done. YOLO:(0.630s), StrongSORT:(0.060s)\n",
            "video 1/1 (69/96) /content/actor1_fall_trim.avi: 384x640 1 person, Done. YOLO:(0.645s), StrongSORT:(0.036s)\n",
            "video 1/1 (70/96) /content/actor1_fall_trim.avi: 384x640 1 person, Done. YOLO:(0.638s), StrongSORT:(0.038s)\n",
            "video 1/1 (71/96) /content/actor1_fall_trim.avi: 384x640 1 person, Done. YOLO:(0.641s), StrongSORT:(0.037s)\n",
            "video 1/1 (72/96) /content/actor1_fall_trim.avi: 384x640 1 person, Done. YOLO:(0.642s), StrongSORT:(0.036s)\n",
            "video 1/1 (73/96) /content/actor1_fall_trim.avi: 384x640 1 person, Done. YOLO:(0.636s), StrongSORT:(0.036s)\n",
            "video 1/1 (74/96) /content/actor1_fall_trim.avi: 384x640 1 person, Done. YOLO:(0.647s), StrongSORT:(0.042s)\n",
            "video 1/1 (75/96) /content/actor1_fall_trim.avi: 384x640 1 person, Done. YOLO:(0.650s), StrongSORT:(0.039s)\n",
            "video 1/1 (76/96) /content/actor1_fall_trim.avi: 384x640 1 person, Done. YOLO:(0.632s), StrongSORT:(0.039s)\n",
            "video 1/1 (77/96) /content/actor1_fall_trim.avi: 384x640 1 person, Done. YOLO:(0.659s), StrongSORT:(0.037s)\n",
            "video 1/1 (78/96) /content/actor1_fall_trim.avi: 384x640 1 person, Done. YOLO:(0.648s), StrongSORT:(0.038s)\n",
            "video 1/1 (79/96) /content/actor1_fall_trim.avi: 384x640 1 person, Done. YOLO:(0.649s), StrongSORT:(0.036s)\n",
            "video 1/1 (80/96) /content/actor1_fall_trim.avi: 384x640 1 person, Done. YOLO:(0.641s), StrongSORT:(0.040s)\n",
            "video 1/1 (81/96) /content/actor1_fall_trim.avi: 384x640 1 person, Done. YOLO:(0.653s), StrongSORT:(0.037s)\n",
            "video 1/1 (82/96) /content/actor1_fall_trim.avi: 384x640 1 person, Done. YOLO:(0.643s), StrongSORT:(0.036s)\n",
            "video 1/1 (83/96) /content/actor1_fall_trim.avi: 384x640 1 person, Done. YOLO:(0.646s), StrongSORT:(0.037s)\n",
            "video 1/1 (84/96) /content/actor1_fall_trim.avi: 384x640 1 person, Done. YOLO:(0.658s), StrongSORT:(0.039s)\n",
            "video 1/1 (85/96) /content/actor1_fall_trim.avi: 384x640 1 person, Done. YOLO:(0.651s), StrongSORT:(0.039s)\n",
            "video 1/1 (86/96) /content/actor1_fall_trim.avi: 384x640 1 person, Done. YOLO:(0.643s), StrongSORT:(0.046s)\n",
            "video 1/1 (87/96) /content/actor1_fall_trim.avi: 384x640 1 person, Done. YOLO:(0.643s), StrongSORT:(0.037s)\n",
            "video 1/1 (88/96) /content/actor1_fall_trim.avi: 384x640 1 person, Done. YOLO:(0.652s), StrongSORT:(0.043s)\n",
            "video 1/1 (89/96) /content/actor1_fall_trim.avi: 384x640 1 person, Done. YOLO:(0.639s), StrongSORT:(0.037s)\n",
            "video 1/1 (90/96) /content/actor1_fall_trim.avi: 384x640 1 person, Done. YOLO:(0.642s), StrongSORT:(0.037s)\n",
            "video 1/1 (91/96) /content/actor1_fall_trim.avi: 384x640 1 person, Done. YOLO:(0.655s), StrongSORT:(0.038s)\n",
            "video 1/1 (92/96) /content/actor1_fall_trim.avi: 384x640 1 person, Done. YOLO:(0.665s), StrongSORT:(0.040s)\n",
            "video 1/1 (93/96) /content/actor1_fall_trim.avi: 384x640 1 person, Done. YOLO:(0.641s), StrongSORT:(0.037s)\n",
            "video 1/1 (94/96) /content/actor1_fall_trim.avi: 384x640 1 person, Done. YOLO:(0.646s), StrongSORT:(0.039s)\n",
            "video 1/1 (95/96) /content/actor1_fall_trim.avi: 384x640 1 person, Done. YOLO:(0.638s), StrongSORT:(0.039s)\n",
            "video 1/1 (96/96) /content/actor1_fall_trim.avi: 384x640 1 person, Done. YOLO:(0.663s), StrongSORT:(0.041s)\n",
            "Speed: 1.6ms pre-process, 644.1ms inference, 1.2ms NMS, 43.0ms strong sort update per image at shape (1, 3, 640, 640)\n",
            "Results saved to \u001b[1mruns/track/exp\u001b[0m\n"
          ]
        }
      ]
    }
  ]
}